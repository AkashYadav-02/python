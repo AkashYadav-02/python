{
  "nbformat": 4,
  "nbformat_minor": 0,
  "metadata": {
    "colab": {
      "provenance": [],
      "authorship_tag": "ABX9TyPLBJwSl5ck9UZKE5SbY3UW",
      "include_colab_link": true
    },
    "kernelspec": {
      "name": "python3",
      "display_name": "Python 3"
    },
    "language_info": {
      "name": "python"
    }
  },
  "cells": [
    {
      "cell_type": "markdown",
      "metadata": {
        "id": "view-in-github",
        "colab_type": "text"
      },
      "source": [
        "<a href=\"https://colab.research.google.com/github/AkashYadav-02/python/blob/main/10feb.ipynb\" target=\"_parent\"><img src=\"https://colab.research.google.com/assets/colab-badge.svg\" alt=\"Open In Colab\"/></a>"
      ]
    },
    {
      "cell_type": "code",
      "execution_count": null,
      "metadata": {
        "id": "uolNynv3gkBI"
      },
      "outputs": [],
      "source": []
    },
    {
      "cell_type": "markdown",
      "source": [
        "Q1. Which function is used to open a file? What are the different modes of opening a file? Explain each mode\n",
        "of file opening.\n",
        "\n",
        "Ans.The different modes of opening a file in Python are:\n",
        "\n",
        "'r' (Read Only) : This is the default mode. It is used to open a file for reading only. The pointer is placed at the beginning of the file. If the file does not exist, an error is raised.\n",
        "\n",
        "'w' (Write Only) : This mode is used to open a file for writing only. If the file exists, its content is truncated, otherwise, a new file is created.\n",
        "\n",
        "'a' (Append Only) : This mode is used to open a file for writing only. If the file exists, the pointer is placed at the end of the file, and data is appended to the end of the file. If the file does not exist, a new file is created.\n",
        "\n",
        "'x' (Exclusive Creation) : This mode is used to open a file for writing only. If the file exists, an error is raised, and if the file does not exist, a new file is created.\n",
        "\n",
        "'b' (Binary Mode) : This mode is used to open a file in binary mode, which is used for non-text files, such as images or audio files.\n",
        "\n",
        "'t' (Text Mode) : This mode is used to open a file in text mode, which is used for text files. This is the default mode."
      ],
      "metadata": {
        "id": "VUPifdxrgkgZ"
      }
    },
    {
      "cell_type": "code",
      "source": [
        "f = open(\"example.txt\", \"r\") # Open the file for reading\n",
        "f = open(\"example.txt\", \"w\") # Open the file for writing\n",
        "f = open(\"example.txt\", \"a\") # Open the file for appending\n",
        "f = open(\"example.txt\", \"x\") # Open the file for exclusive creation\n",
        "f = open(\"example.txt\", \"b\") # Open the file in binary mode\n",
        "f = open(\"example.txt\", \"t\") # Open the file in text mode"
      ],
      "metadata": {
        "id": "4nzkNDmdglLo"
      },
      "execution_count": null,
      "outputs": []
    },
    {
      "cell_type": "markdown",
      "source": [
        "Q2. Why close() function is used? Why is it important to close a file?\n",
        "Ans.The close() function is used to close a file that has been opened in Python. Closing a file is important for a number of reasons:\n",
        "\n",
        "Releases resources: When a file is opened, system resources are reserved for it, such as memory and file handles. When the file is no longer needed, it's important to release these resources by closing the file.\n",
        "\n",
        "Prevents data corruption: When a file is left open, it can be vulnerable to data corruption, such as when the program that opened the file crashes or is terminated. Closing the file ensures that any data that was written to it is saved and the file is in a consistent state.\n",
        "\n",
        "Allows other programs to access the file: When a file is left open, other programs may not be able to access it because the operating system locks it. Closing the file releases the lock and allows other programs to access the file if necessary.\n",
        "\n",
        "Improves performance: If a large number of files are left open, it can slow down the performance of the system. Closing files that are no longer needed helps to improve the overall performance of the system."
      ],
      "metadata": {
        "id": "evcKvWGyhLEv"
      }
    },
    {
      "cell_type": "code",
      "source": [
        "with open(\"example.txt\", \"r\") as f:"
      ],
      "metadata": {
        "id": "uUDFAmWDhcUA"
      },
      "execution_count": null,
      "outputs": []
    },
    {
      "cell_type": "markdown",
      "source": [
        "Q3. Write a python program to create a text file. Write ‘I want to become a Data Scientist’ in that file. Then\n",
        "close the file. Open this file and read the content of the file."
      ],
      "metadata": {
        "id": "OVqpoeYthctg"
      }
    },
    {
      "cell_type": "code",
      "source": [
        "filename = \"textfile.txt\"\n",
        "\n",
        "# Open the file for writing\n",
        "with open(filename, \"w\") as file:\n",
        "    # Write the string to the file\n",
        "    file.write(\"I want to become a Data Scientist\")\n",
        "\n",
        "# Close the file\n",
        "file.close()\n",
        "\n",
        "# Open the file for reading\n",
        "with open(filename, \"r\") as file:\n",
        "    # Read the contents of the file\n",
        "    content = file.read()\n",
        "\n",
        "# Print the contents of the file\n",
        "print(content)"
      ],
      "metadata": {
        "id": "rxuI2soAhzKv"
      },
      "execution_count": null,
      "outputs": []
    },
    {
      "cell_type": "markdown",
      "source": [
        "Q4. Explain the following with python code: read(), readline() and readlines().\n",
        "In Python, the read(), readline(), and readlines() methods are used to read the contents of a file.\n",
        "\n",
        "read() method: The read() method reads the entire contents of a file and returns it as a single string.\n",
        "readline() method: The readline() method reads a single line from the file and returns it as a string. If the method is called multiple times, it returns the next line each time it's called."
      ],
      "metadata": {
        "id": "wtclZszxh0Uo"
      }
    },
    {
      "cell_type": "code",
      "source": [
        "filename = \"textfile.txt\"\n",
        "\n",
        "with open(filename, \"r\") as file:\n",
        "    content = file.read()\n",
        "\n",
        "print(content)\n",
        "\n",
        "\n",
        "\n",
        "\n",
        "with open(filename, \"r\") as file:\n",
        "    line = file.readline()\n",
        "    while line:\n",
        "        print(line, end=\"\")\n",
        "        line = file.readline()"
      ],
      "metadata": {
        "id": "h5crk_64h8bw"
      },
      "execution_count": null,
      "outputs": []
    },
    {
      "cell_type": "markdown",
      "source": [
        "Q5. Explain why with statement is used with open(). What is the advantage of using with statement and\n",
        "open() together?\n",
        "\n",
        "\n",
        "\n",
        "Ans.\n",
        "The with statement is used in Python to ensure that resources are properly managed. In the case of opening a file, the with statement is used to ensure that the file is properly closed, even if an exception is raised within the with block."
      ],
      "metadata": {
        "id": "uES3YttniKrY"
      }
    },
    {
      "cell_type": "code",
      "source": [
        "filename = \"textfile.txt\"\n",
        "\n",
        "with open(filename, \"r\") as file:\n",
        "    content = file.read()\n",
        "\n",
        "print(content)"
      ],
      "metadata": {
        "id": "vVx641ogicSy"
      },
      "execution_count": null,
      "outputs": []
    },
    {
      "cell_type": "markdown",
      "source": [
        "Q6. Explain the write() and writelines() functions. Give a suitable example.\n",
        "\n",
        "Ans.The write() function is used to write a string to a file. The string is passed as an argument to the write() function, and it is written to the file at the current position of the file pointer. If the file does not exist, it is created. If the file exists, the existing content is overwritten."
      ],
      "metadata": {
        "id": "fpUpm1bcic4C"
      }
    },
    {
      "cell_type": "code",
      "source": [
        "filename = \"textfile.txt\"\n",
        "\n",
        "with open(filename, \"w\") as file:\n",
        "    file.write(\"I want to become a Data Scientist\")\n",
        "\n",
        "with open(filename, \"r\") as file:\n",
        "    content = file.read()\n",
        "\n",
        "print(content)\n",
        "\n",
        "\n",
        "\n",
        "with open(filename, \"w\") as file:\n",
        "    file.writelines([\"I want to become a Data Scientist\", \"I love data and statistics\"])\n",
        "\n",
        "with open(filename, \"r\") as file:\n",
        "    content = file.read()\n",
        "\n",
        "print(content)"
      ],
      "metadata": {
        "id": "4RLbNRqvinfa"
      },
      "execution_count": null,
      "outputs": []
    }
  ]
}