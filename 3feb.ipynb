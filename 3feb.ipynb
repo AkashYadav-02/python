{
  "nbformat": 4,
  "nbformat_minor": 0,
  "metadata": {
    "colab": {
      "provenance": [],
      "authorship_tag": "ABX9TyPdeXW2jU6BtHMaOCGCrmvU",
      "include_colab_link": true
    },
    "kernelspec": {
      "name": "python3",
      "display_name": "Python 3"
    },
    "language_info": {
      "name": "python"
    }
  },
  "cells": [
    {
      "cell_type": "markdown",
      "metadata": {
        "id": "view-in-github",
        "colab_type": "text"
      },
      "source": [
        "<a href=\"https://colab.research.google.com/github/AkashYadav-02/python/blob/main/3feb.ipynb\" target=\"_parent\"><img src=\"https://colab.research.google.com/assets/colab-badge.svg\" alt=\"Open In Colab\"/></a>"
      ]
    },
    {
      "cell_type": "markdown",
      "source": [
        "Q1. Which keyword is used to create a function? Create a function to return a list of odd numbers in the\n",
        "range of 1 to 25.\n",
        "Ans.In Python, the def keyword is used to create a function. Here's an example of how to create a function that returns a list of odd numbers in the range of 1 to 25:"
      ],
      "metadata": {
        "id": "tMfLxRIYNFP-"
      }
    },
    {
      "cell_type": "code",
      "source": [
        "def odd_numbers():\n",
        "    odd_list = []\n",
        "    for i in range(1, 26):\n",
        "        if i % 2 != 0:\n",
        "            odd_list.append(i)\n",
        "    return odd_list\n",
        "\n",
        "print(odd_numbers())\n",
        "\n",
        "\n",
        "\n"
      ],
      "metadata": {
        "colab": {
          "base_uri": "https://localhost:8080/"
        },
        "id": "0vPKj32BNLeA",
        "outputId": "c39caad7-9a68-4b13-e746-fd24fc1c870d"
      },
      "execution_count": 2,
      "outputs": [
        {
          "output_type": "stream",
          "name": "stdout",
          "text": [
            "[1, 3, 5, 7, 9, 11, 13, 15, 17, 19, 21, 23, 25]\n"
          ]
        }
      ]
    },
    {
      "cell_type": "markdown",
      "source": [
        "Q2. Why *args and **kwargs is used in some functions? Create a function each for *args and **kwargs to\n",
        "demonstrate their use.\n",
        "Ans.*args and **kwargs are used in some functions to allow them to accept a varying number of arguments.\n",
        "\n",
        "*args is used to send a non-keyworded variable length argument list to the function. This allows the function to accept an arbitrary number of arguments, which are then stored in a tuple.\n",
        "\n",
        "**kwargs is used to send a keyworded variable length argument list to the function. This allows the function to accept an arbitrary number of keyword arguments, which are then stored in a dictionary."
      ],
      "metadata": {
        "id": "Hz4rvsenNYze"
      }
    },
    {
      "cell_type": "code",
      "source": [
        "def func_args(*args):\n",
        "    for arg in args:\n",
        "        print(arg)\n",
        "\n",
        "func_args(1, 2, 3, 4, 5)"
      ],
      "metadata": {
        "colab": {
          "base_uri": "https://localhost:8080/"
        },
        "id": "k6wQOXhlNlV3",
        "outputId": "896728fb-26cc-4f28-f23e-d79b930a71ee"
      },
      "execution_count": 3,
      "outputs": [
        {
          "output_type": "stream",
          "name": "stdout",
          "text": [
            "1\n",
            "2\n",
            "3\n",
            "4\n",
            "5\n"
          ]
        }
      ]
    },
    {
      "cell_type": "code",
      "source": [
        "def func_kwargs(**kwargs):\n",
        "    for key, value in kwargs.items():\n",
        "        print(f\"{key}: {value}\")\n",
        "\n",
        "func_kwargs(first_name=\"John\", last_name=\"Doe\", age=30)"
      ],
      "metadata": {
        "colab": {
          "base_uri": "https://localhost:8080/"
        },
        "id": "-7Vq4HcMNmNm",
        "outputId": "0877f047-ddf6-4c2f-b6e5-8395ba43c0b7"
      },
      "execution_count": 4,
      "outputs": [
        {
          "output_type": "stream",
          "name": "stdout",
          "text": [
            "first_name: John\n",
            "last_name: Doe\n",
            "age: 30\n"
          ]
        }
      ]
    },
    {
      "cell_type": "markdown",
      "source": [
        "Q3. What is an iterator in python? Name the method used to initialise the iterator object and the method\n",
        "used for iteration. Use these methods to print the first five elements of the given list [2, 4, 6, 8, 10, 12, 14, 16,\n",
        "18, 20].\n",
        "Ans.An iterator in Python is an object that can be iterated (looped) upon. An object which returns data, one element at a time when iterated over.\n",
        "\n",
        "To create an iterator in Python, you can use the iter() method. This method takes an iterable object as an argument and returns an iterator object.\n",
        "\n",
        "To iterate over an iterator, you can use the next() method. This method returns the next value in the iterator each time it is called."
      ],
      "metadata": {
        "id": "auO4tQC2Ns7W"
      }
    },
    {
      "cell_type": "code",
      "source": [
        "numbers = [2, 4, 6, 8, 10, 12, 14, 16, 18, 20]\n",
        "\n",
        "# Create an iterator from the list\n",
        "iterator = iter(numbers)\n",
        "\n",
        "# Use the next() method to get the first five values from the iterator\n",
        "for i in range(5):\n",
        "    print(next(iterator))"
      ],
      "metadata": {
        "colab": {
          "base_uri": "https://localhost:8080/"
        },
        "id": "xfhjg4svN26P",
        "outputId": "257d1ad2-a712-4104-bd8b-963f260b42b9"
      },
      "execution_count": 5,
      "outputs": [
        {
          "output_type": "stream",
          "name": "stdout",
          "text": [
            "2\n",
            "4\n",
            "6\n",
            "8\n",
            "10\n"
          ]
        }
      ]
    },
    {
      "cell_type": "markdown",
      "source": [
        "Q4. What is a generator function in python? Why yield keyword is used? Give an example of a generator\n",
        "function.\n",
        "Ans.A generator function is a special kind of function in Python that returns a generator iterator. It is different from a normal function because instead of using the return keyword to return a value, it uses the yield keyword.\n",
        "\n",
        "The yield keyword is used in a generator function because it allows the function to return a value and then later pick up where it left off. This means that instead of generating the entire sequence of values in memory all at once, a generator function generates the values one by one as they are requested."
      ],
      "metadata": {
        "id": "uQzPN7xiN6u2"
      }
    },
    {
      "cell_type": "code",
      "source": [
        "def even_numbers(limit):\n",
        "    num = 0\n",
        "    while num < limit:\n",
        "        yield num\n",
        "        num += 2\n",
        "\n",
        "# Use the generator function\n",
        "for number in even_numbers(20):\n",
        "    print(number)"
      ],
      "metadata": {
        "colab": {
          "base_uri": "https://localhost:8080/"
        },
        "id": "pqNS3gNuOI6G",
        "outputId": "e2e47bac-1c24-4655-f48a-3b9d28cc421b"
      },
      "execution_count": 6,
      "outputs": [
        {
          "output_type": "stream",
          "name": "stdout",
          "text": [
            "0\n",
            "2\n",
            "4\n",
            "6\n",
            "8\n",
            "10\n",
            "12\n",
            "14\n",
            "16\n",
            "18\n"
          ]
        }
      ]
    },
    {
      "cell_type": "markdown",
      "source": [
        "Q5. Create a generator function for prime numbers less than 1000. Use the next() method to print the\n",
        "first 20 prime numbers."
      ],
      "metadata": {
        "id": "z0ly_4OzONDu"
      }
    },
    {
      "cell_type": "code",
      "source": [
        "def prime_numbers(limit):\n",
        "    number = 2\n",
        "    while number < limit:\n",
        "        is_prime = True\n",
        "        for i in range(2, number):\n",
        "            if number % i == 0:\n",
        "                is_prime = False\n",
        "                break\n",
        "        if is_prime:\n",
        "            yield number\n",
        "        number += 1\n",
        "\n",
        "# Use the generator function\n",
        "prime_gen = prime_numbers(1000)\n",
        "\n",
        "# Print the first 20 prime numbers\n",
        "for i in range(20):\n",
        "    print(next(prime_gen))"
      ],
      "metadata": {
        "id": "zBDCQ2j6OZ7u"
      },
      "execution_count": null,
      "outputs": []
    }
  ]
}