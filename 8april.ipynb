{
  "nbformat": 4,
  "nbformat_minor": 0,
  "metadata": {
    "colab": {
      "provenance": []
    },
    "kernelspec": {
      "name": "python3",
      "display_name": "Python 3"
    },
    "language_info": {
      "name": "python"
    }
  },
  "cells": [
    {
      "cell_type": "code",
      "execution_count": 5,
      "metadata": {
        "colab": {
          "base_uri": "https://localhost:8080/"
        },
        "id": "EUdHNc02sY5Q",
        "outputId": "f70aefd8-3c65-4b53-8888-795a4ea4ff8f"
      },
      "outputs": [
        {
          "output_type": "stream",
          "name": "stdout",
          "text": [
            "              area_type   availability                  location       size  \\\n",
            "0  Super built-up  Area         19-Dec  Electronic City Phase II      2 BHK   \n",
            "1            Plot  Area  Ready To Move          Chikka Tirupathi  4 Bedroom   \n",
            "2        Built-up  Area  Ready To Move               Uttarahalli      3 BHK   \n",
            "3  Super built-up  Area  Ready To Move        Lingadheeranahalli      3 BHK   \n",
            "4  Super built-up  Area  Ready To Move                  Kothanur      2 BHK   \n",
            "\n",
            "   society total_sqft  bath  balcony   price  \n",
            "0  Coomee        1056   2.0      1.0   39.07  \n",
            "1  Theanmp       2600   5.0      3.0  120.00  \n",
            "2      NaN       1440   2.0      3.0   62.00  \n",
            "3  Soiewre       1521   3.0      1.0   95.00  \n",
            "4      NaN       1200   2.0      1.0   51.00  \n",
            "area_type        object\n",
            "availability     object\n",
            "location         object\n",
            "size             object\n",
            "society          object\n",
            "total_sqft       object\n",
            "bath            float64\n",
            "balcony         float64\n",
            "price           float64\n",
            "dtype: object\n",
            "Kernel: linear\n",
            "Mean Squared Error (MSE): 17324.966493582382\n",
            "Root Mean Squared Error (RMSE): 131.62433853046474\n",
            "R-squared: 0.18625981152243565\n",
            "Mean Absolute Error (MAE): 49.25407309243975\n",
            "--------------------------------------------------\n",
            "Kernel: poly\n",
            "Mean Squared Error (MSE): 18641.67511597489\n",
            "Root Mean Squared Error (RMSE): 136.53451986942676\n",
            "R-squared: 0.1244150326045309\n",
            "Mean Absolute Error (MAE): 49.69562826165224\n",
            "--------------------------------------------------\n",
            "Kernel: rbf\n",
            "Mean Squared Error (MSE): 17185.00940894576\n",
            "Root Mean Squared Error (RMSE): 131.0916069355539\n",
            "R-squared: 0.19283348682929202\n",
            "Mean Absolute Error (MAE): 45.370933698221236\n",
            "--------------------------------------------------\n"
          ]
        }
      ],
      "source": [
        "import pandas as pd\n",
        "import numpy as np\n",
        "from sklearn.svm import SVR\n",
        "from sklearn.model_selection import train_test_split\n",
        "from sklearn.metrics import mean_squared_error, r2_score, mean_absolute_error\n",
        "from sklearn.preprocessing import StandardScaler, LabelEncoder\n",
        "\n",
        "# Load dataset (replace 'path_to_your_downloaded_file.csv' with the correct file path)\n",
        "file_path = '/content/Bengaluru_House_Data.csv'\n",
        "df = pd.read_csv(file_path)\n",
        "\n",
        "# Check the first few rows of the dataset to understand its structure\n",
        "print(df.head())\n",
        "\n",
        "# Check for non-numeric columns (categorical columns)\n",
        "print(df.dtypes)\n",
        "\n",
        "# Identify categorical columns and convert them to numeric using LabelEncoder or OneHotEncoder\n",
        "categorical_columns = df.select_dtypes(include=['object']).columns\n",
        "\n",
        "# Convert categorical columns to numeric using LabelEncoder\n",
        "label_encoder = LabelEncoder()\n",
        "for column in categorical_columns:\n",
        "    df[column] = label_encoder.fit_transform(df[column].astype(str))\n",
        "\n",
        "# Handle missing values - you can either drop or fill missing values\n",
        "# Here, we fill missing values with the mean of the column\n",
        "df.fillna(df.mean(), inplace=True)\n",
        "\n",
        "# Assuming the target variable is 'Price' (change it to match the actual column name in your dataset)\n",
        "X = df.drop('price', axis=1)  # Feature columns (replace 'Price' with actual column name)\n",
        "y = df['price']  # Target variable (house price)\n",
        "\n",
        "# Split the data into training and testing sets\n",
        "X_train, X_test, y_train, y_test = train_test_split(X, y, test_size=0.2, random_state=42)\n",
        "\n",
        "# Standardize the features\n",
        "scaler = StandardScaler()\n",
        "X_train_scaled = scaler.fit_transform(X_train)\n",
        "X_test_scaled = scaler.transform(X_test)\n",
        "\n",
        "# Train SVM regression models with different kernels\n",
        "kernels = ['linear', 'poly', 'rbf']\n",
        "svm_models = {}\n",
        "\n",
        "for kernel in kernels:\n",
        "    model = SVR(kernel=kernel)\n",
        "    model.fit(X_train_scaled, y_train)\n",
        "    y_pred = model.predict(X_test_scaled)\n",
        "    svm_models[kernel] = y_pred\n",
        "\n",
        "    # Calculate MSE, RMSE, and R-squared for each model\n",
        "    mse = mean_squared_error(y_test, y_pred)\n",
        "    rmse = np.sqrt(mse)\n",
        "    r2 = r2_score(y_test, y_pred)\n",
        "    mae = mean_absolute_error(y_test, y_pred)\n",
        "\n",
        "    print(f\"Kernel: {kernel}\")\n",
        "    print(f\"Mean Squared Error (MSE): {mse}\")\n",
        "    print(f\"Root Mean Squared Error (RMSE): {rmse}\")\n",
        "    print(f\"R-squared: {r2}\")\n",
        "    print(f\"Mean Absolute Error (MAE): {mae}\")\n",
        "    print(\"-\" * 50)\n"
      ]
    },
    {
      "cell_type": "markdown",
      "source": [
        "# New Section"
      ],
      "metadata": {
        "id": "bd5fSEEbscb8"
      }
    }
  ]
}