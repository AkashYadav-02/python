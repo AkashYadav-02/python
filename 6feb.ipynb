{
  "nbformat": 4,
  "nbformat_minor": 0,
  "metadata": {
    "colab": {
      "provenance": [],
      "authorship_tag": "ABX9TyPDU59cDu5d2CNNKg6JPAj/",
      "include_colab_link": true
    },
    "kernelspec": {
      "name": "python3",
      "display_name": "Python 3"
    },
    "language_info": {
      "name": "python"
    }
  },
  "cells": [
    {
      "cell_type": "markdown",
      "metadata": {
        "id": "view-in-github",
        "colab_type": "text"
      },
      "source": [
        "<a href=\"https://colab.research.google.com/github/AkashYadav-02/python/blob/main/6feb.ipynb\" target=\"_parent\"><img src=\"https://colab.research.google.com/assets/colab-badge.svg\" alt=\"Open In Colab\"/></a>"
      ]
    },
    {
      "cell_type": "code",
      "execution_count": null,
      "metadata": {
        "id": "uHU3I6MDPSwo"
      },
      "outputs": [],
      "source": []
    },
    {
      "cell_type": "markdown",
      "source": [
        "Q1. Create a function which will take a list as an argument and return the product of all the numbers\n",
        "after creating a flat list.\n",
        "Use the below-given list as an argument for your function.\n",
        "list1 = [1,2,3,4, [44,55,66, True], False, (34,56,78,89,34), {1,2,3,3,2,1}, {1:34, \"key2\": [55, 67, 78, 89], 4: (45,\n",
        "22, 61, 34)}, [56, 'data science'], 'Machine Learning']\n",
        "Note: you must extract numeric keys and values of the dictionary also.\n",
        "Ans."
      ],
      "metadata": {
        "id": "1_FlIvLDPZ8_"
      }
    },
    {
      "cell_type": "code",
      "source": [
        "def flatten_list_and_calculate_product(lst):\n",
        "    \n",
        "    flat_list = []\n",
        "    \n",
        "    \n",
        "    def extract_numbers(lst):\n",
        "        for item in lst:\n",
        "            if type(item) == int or type(item) == float:\n",
        "                flat_list.append(item)\n",
        "            elif type(item) == tuple or type(item) == set:\n",
        "                extract_numbers(list(item))\n",
        "            elif type(item) == list:\n",
        "                extract_numbers(item)\n",
        "            elif type(item) == dict:\n",
        "                for key, value in item.items():\n",
        "                    if type(key) == int or type(key) == float:\n",
        "                        flat_list.append(key)\n",
        "                    if type(value) == int or type(value) == float:\n",
        "                        flat_list.append(value)\n",
        "                    if type(value) == list or type(value) == tuple or type(value) == set:\n",
        "                        extract_numbers(value)\n",
        "    \n",
        "    \n",
        "    extract_numbers(lst)\n",
        "    \n",
        "   \n",
        "    product = 1\n",
        "    for num in flat_list:\n",
        "        product *= num\n",
        "    \n",
        "    return product\n",
        "\n",
        "list1 = [1,2,3,4, [44,55,66, True], False, (34,56,78,89,34), {1,2,3,3,2,1}, {1:34, \"key2\": [55, 67, 78, 89], 4: (45,\n",
        "22, 61, 34)}, [56, 'data science'], 'Machine Learning']\n",
        "result = flatten_list_and_calculate_product(list1)\n",
        "print(result)"
      ],
      "metadata": {
        "colab": {
          "base_uri": "https://localhost:8080/"
        },
        "id": "QV4NF4f5Po9G",
        "outputId": "1cc3038c-4729-4d11-d9c5-7ae803dd8fc4"
      },
      "execution_count": 2,
      "outputs": [
        {
          "output_type": "stream",
          "name": "stdout",
          "text": [
            "4134711838987085478833841242112000\n"
          ]
        }
      ]
    },
    {
      "cell_type": "code",
      "source": [],
      "metadata": {
        "id": "33VllWd3QBwG"
      },
      "execution_count": null,
      "outputs": []
    },
    {
      "cell_type": "markdown",
      "source": [
        "Q2. Write a python program for encrypting a message sent to you by your friend. The logic of encryption\n",
        "should be such that, for a the output should be z. For b, the output should be y. For c, the output should\n",
        "be x respectively. Also, the whitespace should be replaced with a dollar sign. Keep the punctuation\n",
        "marks unchanged.\n",
        "Input Sentence: I want to become a Data Scientist.\n",
        "Encrypt the above input sentence using the program you just created.\n",
        "Note: Convert the given input sentence into lowercase before encrypting. The final output should be\n",
        "lowercase."
      ],
      "metadata": {
        "id": "SzH5WANWQCWZ"
      }
    },
    {
      "cell_type": "code",
      "source": [
        "def encrypt_message(message):\n",
        "    # convert the message to lowercase\n",
        "    message = message.lower()\n",
        "    encrypted_message = \"\"\n",
        "    \n",
        "    # loop through each character in the message\n",
        "    for char in message:\n",
        "        if char == \" \":\n",
        "            # replace whitespace with a dollar sign\n",
        "            encrypted_message += \"$\"\n",
        "        elif char.isalpha():\n",
        "            # encrypt alphabets according to the given logic\n",
        "            encrypted_message += chr(122 - ord(char) + 97)\n",
        "        else:\n",
        "            # keep punctuation marks unchanged\n",
        "            encrypted_message += char\n",
        "    \n",
        "    return encrypted_message\n",
        "\n",
        "message = \"I want to become a Data Scientist.\"\n",
        "encrypted_message = encrypt_message(message)\n",
        "print(\"Encrypted Message:\", encrypted_message)"
      ],
      "metadata": {
        "id": "92S-n2CAQCvW"
      },
      "execution_count": null,
      "outputs": []
    }
  ]
}