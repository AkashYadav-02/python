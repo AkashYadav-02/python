{
  "nbformat": 4,
  "nbformat_minor": 0,
  "metadata": {
    "colab": {
      "provenance": []
    },
    "kernelspec": {
      "name": "python3",
      "display_name": "Python 3"
    },
    "language_info": {
      "name": "python"
    }
  },
  "cells": [
    {
      "cell_type": "markdown",
      "source": [
        "Q1. What are the characteristics of the tuples? Is tuple immutable?\n",
        "Ans.A tuple is a collection of ordered, immutable elements, often of different data types, separated by commas. The elements of a tuple are called items. Some of the key characteristics of tuples include:\n",
        "\n",
        "Immutable: Once created, the elements of a tuple cannot be changed. This makes tuples suitable for representing values that should not change over time.\n",
        "\n",
        "Ordered: The items in a tuple are ordered, meaning that each item has a specific position within the tuple. This allows you to access and manipulate individual items in a tuple.\n",
        "\n",
        "Heterogeneous: The items in a tuple can be of different data types, such as integers, strings, and other data structures.\n",
        "\n",
        "Accessible by index: You can access the items in a tuple by their index, which is an integer that represents their position within the tuple.\n",
        "\n",
        "Uses parentheses: Tuples are typically represented using parentheses, ( and ), to separate the items.\n",
        "\n",
        "Overall, the immutability and ordered nature of tuples make them useful for representing values that should not change and need to be stored in a specific order, such as dates, coordinates, and so on.\n",
        "\n",
        "\n",
        "\n",
        "\n"
      ],
      "metadata": {
        "id": "BVS-k2M7EOte"
      }
    },
    {
      "cell_type": "markdown",
      "source": [
        "Q2. What are the two tuple methods in python? Give an example of each method. Give a reason why\n",
        "tuples have only two in-built methods as compared to Lists.\n",
        "Ans.Tuples have only two built-in methods as compared to lists because tuples are designed to be simple, lightweight, and efficient. The primary purpose of tuples is to store values that should not change, and the count and index methods provide just enough functionality to search for and retrieve values from tuples. Lists, on the other hand, are more complex and versatile data structures that support a wider range of operations, including adding and removing elements, sorting, and more.\n"
      ],
      "metadata": {
        "id": "ozv2fjSGEZJG"
      }
    },
    {
      "cell_type": "markdown",
      "source": [
        "Which collection datatypes in python do not allow duplicate items? Write a code using a set to remove\n",
        "duplicates from the given list.\n",
        "List = [1, 1, 1, 2, 1, 3, 1, 4, 2, 1, 2, 2, 2, 3, 2, 4, 3, 1, 3, 2, 3, 3, 3, 4, 4, 1, 4, 2, 4, 3, 4, 4]\n",
        "Ans.In Python, the set datatype does not allow duplicate items. A set is an unordered collection of unique elements. You can use a set to remove duplicates from a list by converting the list to a set and then back to a list."
      ],
      "metadata": {
        "id": "41S1eP4MEqsD"
      }
    },
    {
      "cell_type": "code",
      "source": [
        "#Code\n",
        "List = [1, 1, 1, 2, 1, 3, 1, 4, 2, 1, 2, 2, 2, 3, 2, 4, 3, 1, 3, 2, 3, 3, 3, 4, 4, 1, 4, 2, 4, 3, 4, 4]\n",
        "unique_list = list(set(List))\n",
        "print(unique_list)"
      ],
      "metadata": {
        "colab": {
          "base_uri": "https://localhost:8080/"
        },
        "id": "Aqw3jBolEzXV",
        "outputId": "af0d364c-29b2-4ae0-d881-4e79628c00b9"
      },
      "execution_count": 1,
      "outputs": [
        {
          "output_type": "stream",
          "name": "stdout",
          "text": [
            "[1, 2, 3, 4]\n"
          ]
        }
      ]
    },
    {
      "cell_type": "markdown",
      "source": [
        "Q4. Explain the difference between the union() and update() methods for a set. Give an example of\n",
        "each method.\n",
        "Ans.The union and update methods are used to combine two sets in Python. However, there are some differences between the two methods.\n",
        "union: The union method returns a new set that contains all the elements from both sets, without duplicates. Here's an example:\n",
        "\n",
        "update: The update method modifies the set on which it is called by adding all the elements from the other set.\n"
      ],
      "metadata": {
        "id": "Eqv31SO9E9pM"
      }
    },
    {
      "cell_type": "code",
      "source": [
        "#Union\n",
        "set1 = {1, 2, 3}\n",
        "set2 = {3, 4, 5}\n",
        "set3 = set1.union(set2)\n",
        "print(set3)\n",
        "#update\n",
        "\n",
        "set1.update(set2)\n",
        "print(set1)\n",
        "\n"
      ],
      "metadata": {
        "colab": {
          "base_uri": "https://localhost:8080/"
        },
        "id": "m8ngtFYAEQnT",
        "outputId": "be530f68-5b81-450b-a82d-e77505a1cc09"
      },
      "execution_count": 4,
      "outputs": [
        {
          "output_type": "stream",
          "name": "stdout",
          "text": [
            "{1, 2, 3, 4, 5}\n",
            "{1, 2, 3, 4, 5}\n"
          ]
        }
      ]
    },
    {
      "cell_type": "markdown",
      "source": [
        "Q5. What is a dictionary? Give an example. Also, state whether a dictionary is ordered or unordered.\n",
        "Ans.A dictionary in Python is unordered, meaning that the items in the dictionary do not have a specific order. The order of the items in a dictionary may change if the dictionary is modified, and it is not guaranteed to be consistent from one program execution to the next. This makes dictionaries suitable for tasks where the order of the items is not important, and you need to access the values quickly based on their keys."
      ],
      "metadata": {
        "id": "dRwVmbe8Fxh_"
      }
    },
    {
      "cell_type": "code",
      "source": [
        "#Example\n",
        "phonebook = {\"John\": 123456, \"Jane\": 654321, \"Jim\": 111111}\n",
        "print(phonebook)"
      ],
      "metadata": {
        "colab": {
          "base_uri": "https://localhost:8080/"
        },
        "id": "ECqS7IXTF2v8",
        "outputId": "9460b89f-ddc1-48c8-e4c6-406343573e04"
      },
      "execution_count": 5,
      "outputs": [
        {
          "output_type": "stream",
          "name": "stdout",
          "text": [
            "{'John': 123456, 'Jane': 654321, 'Jim': 111111}\n"
          ]
        }
      ]
    },
    {
      "cell_type": "markdown",
      "source": [
        "Q6. Can we create a nested dictionary? If so, please give an example by creating a simple one-level\n",
        "nested dictionary.\n",
        "Ans.Yes "
      ],
      "metadata": {
        "id": "xJuQAsfeGB_F"
      }
    },
    {
      "cell_type": "code",
      "source": [
        "employees = {\"employee1\": {\"name\": \"John\", \"age\": 32, \"position\": \"Manager\"},\n",
        "            \"employee2\": {\"name\": \"Jane\", \"age\": 28, \"position\": \"Developer\"},\n",
        "            \"employee3\": {\"name\": \"Jim\", \"age\": 40, \"position\": \"Director\"}}\n",
        "print(employees)"
      ],
      "metadata": {
        "colab": {
          "base_uri": "https://localhost:8080/"
        },
        "id": "gj6jEfSZGNWT",
        "outputId": "8e45e63e-0af1-4d93-9c99-356b53ce77d0"
      },
      "execution_count": 6,
      "outputs": [
        {
          "output_type": "stream",
          "name": "stdout",
          "text": [
            "{'employee1': {'name': 'John', 'age': 32, 'position': 'Manager'}, 'employee2': {'name': 'Jane', 'age': 28, 'position': 'Developer'}, 'employee3': {'name': 'Jim', 'age': 40, 'position': 'Director'}}\n"
          ]
        }
      ]
    },
    {
      "cell_type": "markdown",
      "source": [
        "Using setdefault() method, create key named topics in the given dictionary and also add the value of\n",
        "the key as this list ['Python', 'Machine Learning’, 'Deep Learning']\n",
        "dict1 = {'language' : 'Python', 'course': 'Data Science Masters'}\n",
        "Ans."
      ],
      "metadata": {
        "id": "WS5EbAW0GUOF"
      }
    },
    {
      "cell_type": "code",
      "source": [
        "dict1 = {'language' : 'Python', 'course': 'Data Science Masters'}\n",
        "dict1.setdefault(\"topics\", ['Python', 'Machine Learning', 'Deep Learning'])\n",
        "print(dict1)"
      ],
      "metadata": {
        "colab": {
          "base_uri": "https://localhost:8080/"
        },
        "id": "UMqpKg8VGc-W",
        "outputId": "290951cf-ce3e-4d51-cb4e-071310dc3179"
      },
      "execution_count": 7,
      "outputs": [
        {
          "output_type": "stream",
          "name": "stdout",
          "text": [
            "{'language': 'Python', 'course': 'Data Science Masters', 'topics': ['Python', 'Machine Learning', 'Deep Learning']}\n"
          ]
        }
      ]
    },
    {
      "cell_type": "markdown",
      "source": [
        "What are the three view objects in dictionaries? Use the three in-built methods in python to display\n",
        "these three view objects for the given dictionary.\n",
        "dict1 = {'Sport': 'Cricket' , 'Teams': ['India', 'Australia', 'England', 'South Africa', 'Sri Lanka', 'New Zealand']}\n",
        "Ans.In Python, dictionaries have three view objects that you can use to view the keys, values, and items (key-value pairs) in the dictionary. The three view objects are:\n",
        "\n",
        ".keys(): Returns a view object that displays a list of all the keys in the dictionary.\n",
        ".values(): Returns a view object that displays a list of all the values in the dictionary.\n",
        ".items(): Returns a view object that displays a list of all the items (key-value pairs) in the dictionary."
      ],
      "metadata": {
        "id": "Vapsl1NKGpHc"
      }
    },
    {
      "cell_type": "code",
      "source": [
        "dict1 = {'Sport': 'Cricket' , 'Teams': ['India', 'Australia', 'England', 'South Africa', 'Sri Lanka', 'New Zealand']}\n",
        "print(dict1.keys())\n",
        "dict_keys(['Sport', 'Teams'])\n",
        "print(dict1.values())\n",
        "dict_values(['Cricket', ['India', 'Australia', 'England', 'South Africa', 'Sri Lanka', 'New Zealand']])\n",
        "print(dict1.items())\n",
        "dict_items([('Sport', 'Cricket'), ('Teams', ['India', 'Australia', 'England', 'South Africa', 'Sri Lanka', 'New Zealand'])])\n"
      ],
      "metadata": {
        "colab": {
          "base_uri": "https://localhost:8080/",
          "height": 252
        },
        "id": "JDm7SWGoHXBe",
        "outputId": "e03e60ef-b956-426e-8232-c675057458fb"
      },
      "execution_count": 8,
      "outputs": [
        {
          "output_type": "stream",
          "name": "stdout",
          "text": [
            "dict_keys(['Sport', 'Teams'])\n"
          ]
        },
        {
          "output_type": "error",
          "ename": "NameError",
          "evalue": "ignored",
          "traceback": [
            "\u001b[0;31m---------------------------------------------------------------------------\u001b[0m",
            "\u001b[0;31mNameError\u001b[0m                                 Traceback (most recent call last)",
            "\u001b[0;32m<ipython-input-8-0f3ac1d481a1>\u001b[0m in \u001b[0;36m<module>\u001b[0;34m\u001b[0m\n\u001b[1;32m      1\u001b[0m \u001b[0mdict1\u001b[0m \u001b[0;34m=\u001b[0m \u001b[0;34m{\u001b[0m\u001b[0;34m'Sport'\u001b[0m\u001b[0;34m:\u001b[0m \u001b[0;34m'Cricket'\u001b[0m \u001b[0;34m,\u001b[0m \u001b[0;34m'Teams'\u001b[0m\u001b[0;34m:\u001b[0m \u001b[0;34m[\u001b[0m\u001b[0;34m'India'\u001b[0m\u001b[0;34m,\u001b[0m \u001b[0;34m'Australia'\u001b[0m\u001b[0;34m,\u001b[0m \u001b[0;34m'England'\u001b[0m\u001b[0;34m,\u001b[0m \u001b[0;34m'South Africa'\u001b[0m\u001b[0;34m,\u001b[0m \u001b[0;34m'Sri Lanka'\u001b[0m\u001b[0;34m,\u001b[0m \u001b[0;34m'New Zealand'\u001b[0m\u001b[0;34m]\u001b[0m\u001b[0;34m}\u001b[0m\u001b[0;34m\u001b[0m\u001b[0;34m\u001b[0m\u001b[0m\n\u001b[1;32m      2\u001b[0m \u001b[0mprint\u001b[0m\u001b[0;34m(\u001b[0m\u001b[0mdict1\u001b[0m\u001b[0;34m.\u001b[0m\u001b[0mkeys\u001b[0m\u001b[0;34m(\u001b[0m\u001b[0;34m)\u001b[0m\u001b[0;34m)\u001b[0m\u001b[0;34m\u001b[0m\u001b[0;34m\u001b[0m\u001b[0m\n\u001b[0;32m----> 3\u001b[0;31m \u001b[0mdict_keys\u001b[0m\u001b[0;34m(\u001b[0m\u001b[0;34m[\u001b[0m\u001b[0;34m'Sport'\u001b[0m\u001b[0;34m,\u001b[0m \u001b[0;34m'Teams'\u001b[0m\u001b[0;34m]\u001b[0m\u001b[0;34m)\u001b[0m\u001b[0;34m\u001b[0m\u001b[0;34m\u001b[0m\u001b[0m\n\u001b[0m\u001b[1;32m      4\u001b[0m \u001b[0mprint\u001b[0m\u001b[0;34m(\u001b[0m\u001b[0mdict1\u001b[0m\u001b[0;34m.\u001b[0m\u001b[0mvalues\u001b[0m\u001b[0;34m(\u001b[0m\u001b[0;34m)\u001b[0m\u001b[0;34m)\u001b[0m\u001b[0;34m\u001b[0m\u001b[0;34m\u001b[0m\u001b[0m\n\u001b[1;32m      5\u001b[0m \u001b[0mdict_values\u001b[0m\u001b[0;34m(\u001b[0m\u001b[0;34m[\u001b[0m\u001b[0;34m'Cricket'\u001b[0m\u001b[0;34m,\u001b[0m \u001b[0;34m[\u001b[0m\u001b[0;34m'India'\u001b[0m\u001b[0;34m,\u001b[0m \u001b[0;34m'Australia'\u001b[0m\u001b[0;34m,\u001b[0m \u001b[0;34m'England'\u001b[0m\u001b[0;34m,\u001b[0m \u001b[0;34m'South Africa'\u001b[0m\u001b[0;34m,\u001b[0m \u001b[0;34m'Sri Lanka'\u001b[0m\u001b[0;34m,\u001b[0m \u001b[0;34m'New Zealand'\u001b[0m\u001b[0;34m]\u001b[0m\u001b[0;34m]\u001b[0m\u001b[0;34m)\u001b[0m\u001b[0;34m\u001b[0m\u001b[0;34m\u001b[0m\u001b[0m\n",
            "\u001b[0;31mNameError\u001b[0m: name 'dict_keys' is not defined"
          ]
        }
      ]
    }
  ]
}