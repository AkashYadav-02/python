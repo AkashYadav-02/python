{
  "nbformat": 4,
  "nbformat_minor": 0,
  "metadata": {
    "colab": {
      "provenance": [],
      "authorship_tag": "ABX9TyNAXHtqvDbJN9M8nwsQwWzU",
      "include_colab_link": true
    },
    "kernelspec": {
      "name": "python3",
      "display_name": "Python 3"
    },
    "language_info": {
      "name": "python"
    }
  },
  "cells": [
    {
      "cell_type": "markdown",
      "metadata": {
        "id": "view-in-github",
        "colab_type": "text"
      },
      "source": [
        "<a href=\"https://colab.research.google.com/github/AkashYadav-02/python/blob/main/05feb.ipynb\" target=\"_parent\"><img src=\"https://colab.research.google.com/assets/colab-badge.svg\" alt=\"Open In Colab\"/></a>"
      ]
    },
    {
      "cell_type": "code",
      "execution_count": null,
      "metadata": {
        "id": "qDdTpDjfaT8F"
      },
      "outputs": [],
      "source": []
    },
    {
      "cell_type": "markdown",
      "source": [
        "Q1. Explain Class and Object with respect to Object-Oriented Programming. Give a suitable example.\n",
        "Ans.Class and object are two fundamental concepts in object-oriented programming (OOP).\n",
        "\n",
        "A class is a blueprint or a template for creating objects. It defines the data and behavior that an object of the class will have. In other words, it is a blueprint of a data structure that holds data and functions that operate on that data.\n",
        "\n",
        "An object is an instance of a class. It represents a specific instance of the class and contains its own data and functions. In other words, an object is a real-world entity with attributes (data) and methods (functions) that are defined in the class."
      ],
      "metadata": {
        "id": "Gw-WV1KiaYg6"
      }
    },
    {
      "cell_type": "code",
      "source": [
        "class Car:\n",
        "    def __init__(self, model, color, make, year):\n",
        "        self.model = model\n",
        "        self.color = color\n",
        "        self.make = make\n",
        "        self.year = year\n",
        "        \n",
        "    def start(self):\n",
        "        print(\"Starting the car\")\n",
        "        \n",
        "    def stop(self):\n",
        "        print(\"Stopping the car\")\n",
        "        \n",
        "    def accelerate(self):\n",
        "        print(\"Accelerating the car\")\n",
        "        \n",
        "    def brake(self):\n",
        "        print(\"Applying the brakes\")\n",
        "my_car = Car(\"SUV\", \"red\", \"Toyota\", 2022)"
      ],
      "metadata": {
        "id": "DQJigQ2VancJ"
      },
      "execution_count": 1,
      "outputs": []
    },
    {
      "cell_type": "markdown",
      "source": [
        "Q2. Name the four pillars of OOPs.\n",
        "Ans.The four pillars of Object-Oriented Programming (OOP) are:\n",
        "\n",
        "Encapsulation: It is the mechanism of wrapping the data (attributes) and code (methods) that operate on that data within a single unit, or object. It provides a level of abstraction, which makes the code more maintainable and secure.\n",
        "\n",
        "Inheritance: It is a mechanism where one class acquires the properties and behavior of another class. It enables the creation of new classes from existing classes. This helps in reducing code duplication, increasing code reuse and promoting code readability.\n",
        "\n",
        "Polymorphism: It is the ability of an object to take on multiple forms. In OOP, polymorphism is achieved through method overloading, method overriding and operator overloading. It allows objects of different classes to be treated as objects of the same class.\n",
        "\n",
        "Abstraction: It is the technique of exposing only the necessary information to the user and hiding the implementation details. Abstraction enables the implementation of objects in a more modular way, making the code more maintainable and scalable."
      ],
      "metadata": {
        "id": "WR7eKsbDaxJY"
      }
    },
    {
      "cell_type": "markdown",
      "source": [
        "Q3. Explain why the __init__() function is used. Give a suitable example.\n",
        "Ans.The __init__ method, also known as the constructor method, is a special method in Python that is automatically called when an object of a class is created. It is used to initialize the attributes of the class. In other words, it sets up the state of an object when it is created."
      ],
      "metadata": {
        "id": "E5mh295la2ko"
      }
    },
    {
      "cell_type": "code",
      "source": [
        "class Dog:\n",
        "    def __init__(self, name, breed):\n",
        "        self.name = name\n",
        "        self.breed = breed\n",
        "\n",
        "dog1 = Dog(\"Max\", \"Labrador\")\n",
        "dog2 = Dog(\"Rocky\", \"Bulldog\")\n",
        "\n",
        "print(dog1.name) \n",
        "print(dog1.breed)"
      ],
      "metadata": {
        "colab": {
          "base_uri": "https://localhost:8080/"
        },
        "id": "PREg1mMfa-WY",
        "outputId": "8fa1331f-1a6b-4304-aa52-0e9b9bad2c09"
      },
      "execution_count": 2,
      "outputs": [
        {
          "output_type": "stream",
          "name": "stdout",
          "text": [
            "Max\n",
            "Labrador\n"
          ]
        }
      ]
    },
    {
      "cell_type": "markdown",
      "source": [
        "Q4. Why self is used in OOPs?\n",
        "Ans.In Object-Oriented Programming (OOP), the self keyword is used as a reference to the instance of the class. It is used to access the instance variables and methods of the class.\n",
        "\n",
        "The self parameter is a reference to the current instance of the class, and is used to access the attributes and methods of the class. By convention, self is the first parameter of a class method, and is used to refer to the instance of the class on which the method is called. When a method is called on an instance, the instance is automatically passed to the method as the first argument, which can be accessed using self. This allows the method to access and modify the attributes of the instance."
      ],
      "metadata": {
        "id": "oocXPpj0bDkB"
      }
    },
    {
      "cell_type": "code",
      "source": [
        "class Dog:\n",
        "    def __init__(self, name, breed):\n",
        "        self.name = name\n",
        "        self.breed = breed\n",
        "\n",
        "    def bark(self):\n",
        "        print(\"Bark\")\n",
        "\n",
        "dog1 = Dog(\"Max\", \"Labrador\")\n",
        "dog1.bark()"
      ],
      "metadata": {
        "colab": {
          "base_uri": "https://localhost:8080/"
        },
        "id": "iKt4HsDAbR2Q",
        "outputId": "d3fb7921-d4b7-48b3-d423-769180f74d93"
      },
      "execution_count": 3,
      "outputs": [
        {
          "output_type": "stream",
          "name": "stdout",
          "text": [
            "Bark\n"
          ]
        }
      ]
    },
    {
      "cell_type": "markdown",
      "source": [
        "Q5. What is inheritance? Give an example for each type of inheritance.\n",
        "Ans.Inheritance is a mechanism in object-oriented programming (OOP) that allows a new class to be derived from an existing class. The derived class inherits all the attributes and behaviors of the existing class and can have additional attributes and behaviors of its own. This enables code reusability, making it easier to create and maintain the code.\n",
        "Single Inheritance: In single inheritance, a derived class inherits from a single base class. For example, class B can inherit from class A.\n",
        "\n",
        "Multiple Inheritance: In multiple inheritance, a derived class inherits from multiple base classes. For example, class C can inherit from class A and class B.\n",
        "\n",
        "Multi-level Inheritance: In multi-level inheritance, a derived class inherits from a base class, which in turn inherits from another base class. For example, class D can inherit from class C, which inherits from class B.\n",
        "\n",
        "Hierarchical Inheritance: In hierarchical inheritance, multiple derived classes inherit from a single base class. For example, class E and class F can both inherit from class A.\n",
        "\n",
        "Hybrid Inheritance: Hybrid inheritance is a combination of multiple inheritance and single inheritance. It is achieved through a combination of any of the inheritance types mentioned above."
      ],
      "metadata": {
        "id": "8XyN_y7NbURg"
      }
    }
  ]
}