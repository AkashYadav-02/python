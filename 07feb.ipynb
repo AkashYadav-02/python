{
  "nbformat": 4,
  "nbformat_minor": 0,
  "metadata": {
    "colab": {
      "provenance": [],
      "authorship_tag": "ABX9TyP2uQjfWw/RRaJzvNPk5xgx",
      "include_colab_link": true
    },
    "kernelspec": {
      "name": "python3",
      "display_name": "Python 3"
    },
    "language_info": {
      "name": "python"
    }
  },
  "cells": [
    {
      "cell_type": "markdown",
      "metadata": {
        "id": "view-in-github",
        "colab_type": "text"
      },
      "source": [
        "<a href=\"https://colab.research.google.com/github/AkashYadav-02/python/blob/main/07feb.ipynb\" target=\"_parent\"><img src=\"https://colab.research.google.com/assets/colab-badge.svg\" alt=\"Open In Colab\"/></a>"
      ]
    },
    {
      "cell_type": "code",
      "execution_count": null,
      "metadata": {
        "id": "lnpoi9dwQd3K"
      },
      "outputs": [],
      "source": []
    },
    {
      "cell_type": "markdown",
      "source": [
        "Q1. You are writing code for a company. The requirement of the company is that you create a python\n",
        "function that will check whether the password entered by the user is correct or not. The function should\n",
        "take the password as input and return the string “Valid Password” if the entered password follows the\n",
        "below-given password guidelines else it should return “Invalid Password”.\n",
        "Note: 1. The Password should contain at least two uppercase letters and at least two lowercase letters.\n",
        "2. The Password should contain at least a number and three special characters.\n",
        "3. The length of the password should be 10 characters long.\n",
        "\n",
        "\n",
        "Ans.can create a function that takes the password as input and checks if it follows the password guidelines by using regular expressions (regex) and the re module in Python. "
      ],
      "metadata": {
        "id": "MWc57bwxQeQH"
      }
    },
    {
      "cell_type": "code",
      "source": [
        "import re\n",
        "\n",
        "def check_password(password):\n",
        "    if len(password) != 10:\n",
        "      return \"Invalid Password\"\n",
        "\n",
        "    uppercase = re.findall(r'[A-Z]', password)\n",
        "    lowercase = re.findall(r'[a-z]', password)\n",
        "    if len(uppercase) < 2 or len(lowercase) < 2:\n",
        "        return \"Invalid Password\"\n",
        "\n",
        "    \n",
        "    number = re.findall(r'\\d', password)\n",
        "    special = re.findall(r'[@#$%^&+=]', password)\n",
        "    if len(number) < 1 or len(special) < 3:\n",
        "        return \"Invalid Password\"\n",
        "\n",
        "    return \"Valid Password\"\n",
        "print(check_password(\"Ak@Ydv00#$\"))"
      ],
      "metadata": {
        "colab": {
          "base_uri": "https://localhost:8080/"
        },
        "id": "u_rxxiNJQpPO",
        "outputId": "3ee43827-bdda-4856-bad4-b3fd401f03b1"
      },
      "execution_count": 6,
      "outputs": [
        {
          "output_type": "stream",
          "name": "stdout",
          "text": [
            "Valid Password\n"
          ]
        }
      ]
    },
    {
      "cell_type": "markdown",
      "source": [
        "Q2. Solve the below-given questions using at least one of the following:\n",
        "1. Lambda functioJ\n",
        "2. Filter functioJ\n",
        "3. Zap functioJ\n",
        "4. List ComprehensioI\n",
        "B Check if the string starts with a particular letterY\n",
        "B Check if the string is numericY\n",
        "B Sort a list of tuples having fruit names and their quantity. [(\"mango\",99),(\"orange\",80), (\"grapes\", 1000)-\n",
        "B Find the squares of numbers from 1 to 10Y\n",
        "B Find the cube root of numbers from 1 to 10Y\n",
        "B Check if a given number is evenY\n",
        "B Filter odd numbers from the given list.\n",
        "[1,2,3,4,5,6,7,8,9,10-\n",
        "B Sort a list of integers into positive and negative integers lists.\n",
        "[1,2,3,4,5,6,-1,-2,-3,-4,-5,0]"
      ],
      "metadata": {
        "id": "MyLDAi0YRmCQ"
      }
    },
    {
      "cell_type": "code",
      "source": [],
      "metadata": {
        "id": "as8p3AidYbL8"
      },
      "execution_count": null,
      "outputs": []
    },
    {
      "cell_type": "code",
      "source": [
        "#Check if the string starts with a particular letter:\n",
        "def starts_with(string, letter):\n",
        "  return True if string[0] == letter else False\n",
        "\n",
        "result = starts_with(\"Hello\", \"H\")\n",
        "print(result)"
      ],
      "metadata": {
        "colab": {
          "base_uri": "https://localhost:8080/"
        },
        "id": "WT5JFLfYSE6R",
        "outputId": "589a6a29-02d8-48d0-e0e1-e0858b252afe"
      },
      "execution_count": 7,
      "outputs": [
        {
          "output_type": "stream",
          "name": "stdout",
          "text": [
            "True\n"
          ]
        }
      ]
    },
    {
      "cell_type": "code",
      "source": [
        "#2 Check if the string is numeric:\n",
        "\n",
        "def is_numeric(string):\n",
        "  return string.isnumeric()\n",
        "\n",
        "result = is_numeric(\"123\")\n",
        "print(result)"
      ],
      "metadata": {
        "colab": {
          "base_uri": "https://localhost:8080/"
        },
        "id": "TX6UGTLuYhHw",
        "outputId": "b71c3201-e674-47e3-a8f0-ccbce64d7edb"
      },
      "execution_count": 8,
      "outputs": [
        {
          "output_type": "stream",
          "name": "stdout",
          "text": [
            "True\n"
          ]
        }
      ]
    },
    {
      "cell_type": "code",
      "source": [
        "#Sort a list of tuples having fruit names and their quantity:\n",
        "fruits = [(\"mango\",99),(\"orange\",80), (\"grapes\", 1000)]\n",
        "\n",
        "sorted_fruits = sorted(fruits, key=lambda x: x[1])\n",
        "print(sorted_fruits)"
      ],
      "metadata": {
        "colab": {
          "base_uri": "https://localhost:8080/"
        },
        "id": "m9IMWBArYpR2",
        "outputId": "f37313d7-0290-4b84-a674-044788b6568a"
      },
      "execution_count": 9,
      "outputs": [
        {
          "output_type": "stream",
          "name": "stdout",
          "text": [
            "[('orange', 80), ('mango', 99), ('grapes', 1000)]\n"
          ]
        }
      ]
    },
    {
      "cell_type": "code",
      "source": [
        "#Find the squares of numbers from 1 to 10:\n",
        "squared_numbers = list(map(lambda i: i**2, range(1, 11)))\n",
        "print(squared_numbers)"
      ],
      "metadata": {
        "colab": {
          "base_uri": "https://localhost:8080/"
        },
        "id": "36q8d_5qYtUH",
        "outputId": "1d50a611-9d18-46f0-ea84-e5033f2245d5"
      },
      "execution_count": 10,
      "outputs": [
        {
          "output_type": "stream",
          "name": "stdout",
          "text": [
            "[1, 4, 9, 16, 25, 36, 49, 64, 81, 100]\n"
          ]
        }
      ]
    },
    {
      "cell_type": "code",
      "source": [
        "#Find the cube root of numbers from 1 to 10:\n",
        "import math\n",
        "\n",
        "cuberoot_numbers = [math.pow(i, 1/3) for i in range(1, 11)]\n",
        "print(cuberoot_numbers)"
      ],
      "metadata": {
        "colab": {
          "base_uri": "https://localhost:8080/"
        },
        "id": "B0EwIJc2Y7qX",
        "outputId": "54d76be7-3bf4-45ed-9ba1-8efee47f68b7"
      },
      "execution_count": 11,
      "outputs": [
        {
          "output_type": "stream",
          "name": "stdout",
          "text": [
            "[1.0, 1.2599210498948732, 1.4422495703074083, 1.5874010519681994, 1.7099759466766968, 1.8171205928321397, 1.912931182772389, 2.0, 2.080083823051904, 2.154434690031884]\n"
          ]
        }
      ]
    },
    {
      "cell_type": "code",
      "source": [
        "#Check if a given number is even:\n",
        "def is_even(number):\n",
        "  return number % 2 == 0\n",
        "\n",
        "result = is_even(4)\n",
        "print(result)"
      ],
      "metadata": {
        "colab": {
          "base_uri": "https://localhost:8080/"
        },
        "id": "m4kbGeLYZBtw",
        "outputId": "aab123c8-53ab-4c8d-f48d-926f0abfa4ea"
      },
      "execution_count": 12,
      "outputs": [
        {
          "output_type": "stream",
          "name": "stdout",
          "text": [
            "True\n"
          ]
        }
      ]
    },
    {
      "cell_type": "code",
      "source": [],
      "metadata": {
        "id": "jAu6wsgTZH0y"
      },
      "execution_count": null,
      "outputs": []
    },
    {
      "cell_type": "code",
      "source": [
        "#Filter odd numbers from the given list:\n",
        "numbers = [1,2,3,4,5,6,7,8,9,10]\n",
        "\n",
        "odd_numbers = list(filter(lambda x: x % 2 != 0, numbers))\n",
        "print(odd_numbers)"
      ],
      "metadata": {
        "colab": {
          "base_uri": "https://localhost:8080/"
        },
        "id": "E1c7cm0PZINx",
        "outputId": "936c0ba4-2d17-4c77-f983-03ffb20ea0ca"
      },
      "execution_count": 13,
      "outputs": [
        {
          "output_type": "stream",
          "name": "stdout",
          "text": [
            "[1, 3, 5, 7, 9]\n"
          ]
        }
      ]
    },
    {
      "cell_type": "code",
      "source": [
        "#Sort a list of integers into positive and negative integers lists:\n",
        "numbers = [1,2,3,4,5,6,-1,-2,-3,-4,-5,0]\n",
        "\n",
        "positive_numbers = [i for i in numbers if i > 0]\n",
        "negative_numbers = [i for i in numbers if i < 0]\n",
        "\n",
        "print(positive_numbers)\n",
        "print(negative_numbers)\n"
      ],
      "metadata": {
        "colab": {
          "base_uri": "https://localhost:8080/"
        },
        "id": "LuahYuyHZNE6",
        "outputId": "0770b5a5-8422-49ca-a3f3-0363b839cadf"
      },
      "execution_count": 14,
      "outputs": [
        {
          "output_type": "stream",
          "name": "stdout",
          "text": [
            "[1, 2, 3, 4, 5, 6]\n",
            "[-1, -2, -3, -4, -5]\n"
          ]
        }
      ]
    }
  ]
}