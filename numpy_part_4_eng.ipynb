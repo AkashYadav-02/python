{
  "cells": [
    {
      "cell_type": "markdown",
      "metadata": {
        "id": "view-in-github",
        "colab_type": "text"
      },
      "source": [
        "<a href=\"https://colab.research.google.com/github/AkashYadav-02/python/blob/main/numpy_part_4_eng.ipynb\" target=\"_parent\"><img src=\"https://colab.research.google.com/assets/colab-badge.svg\" alt=\"Open In Colab\"/></a>"
      ]
    },
    {
      "cell_type": "code",
      "execution_count": null,
      "id": "305f75c5-2626-4244-ba94-4a55c39c72e2",
      "metadata": {
        "id": "305f75c5-2626-4244-ba94-4a55c39c72e2"
      },
      "outputs": [],
      "source": [
        "##Sort, Search & Counting Functions."
      ]
    },
    {
      "cell_type": "code",
      "execution_count": null,
      "id": "7965ef66-f531-4d0b-951c-d0e7c9894614",
      "metadata": {
        "id": "7965ef66-f531-4d0b-951c-d0e7c9894614"
      },
      "outputs": [],
      "source": [
        "import numpy as np"
      ]
    },
    {
      "cell_type": "code",
      "execution_count": null,
      "id": "43f851f5-0cf6-411d-b4a5-164c412085ba",
      "metadata": {
        "id": "43f851f5-0cf6-411d-b4a5-164c412085ba"
      },
      "outputs": [],
      "source": [
        "arr = np.array([4,2,8,5,3,9,12,56])"
      ]
    },
    {
      "cell_type": "code",
      "execution_count": null,
      "id": "26c74608-5189-493f-84dc-c3d5480184a8",
      "metadata": {
        "id": "26c74608-5189-493f-84dc-c3d5480184a8",
        "outputId": "82cc3d26-5061-4e8d-909f-35de74277e73"
      },
      "outputs": [
        {
          "data": {
            "text/plain": [
              "array([ 4,  2,  8,  5,  3,  9, 12, 56])"
            ]
          },
          "execution_count": 9,
          "metadata": {},
          "output_type": "execute_result"
        }
      ],
      "source": [
        "arr"
      ]
    },
    {
      "cell_type": "code",
      "execution_count": null,
      "id": "dc3ed9a3-9b26-4db4-8d72-3820236ce6b6",
      "metadata": {
        "id": "dc3ed9a3-9b26-4db4-8d72-3820236ce6b6",
        "outputId": "96ba1c43-4e33-4a69-8bea-e320f3d6e14a"
      },
      "outputs": [
        {
          "data": {
            "text/plain": [
              "array([ 2,  3,  4,  5,  8,  9, 12, 56])"
            ]
          },
          "execution_count": 10,
          "metadata": {},
          "output_type": "execute_result"
        }
      ],
      "source": [
        "np.sort(arr)"
      ]
    },
    {
      "cell_type": "code",
      "execution_count": null,
      "id": "c1765731-8205-4930-8eda-6e9d984e1cf9",
      "metadata": {
        "id": "c1765731-8205-4930-8eda-6e9d984e1cf9",
        "outputId": "20af4d1e-4448-46ff-a49e-69acfa1e8fbc"
      },
      "outputs": [
        {
          "data": {
            "text/plain": [
              "5"
            ]
          },
          "execution_count": 11,
          "metadata": {},
          "output_type": "execute_result"
        }
      ],
      "source": [
        "np.searchsorted(arr,6)"
      ]
    },
    {
      "cell_type": "code",
      "execution_count": null,
      "id": "a46d2084-a86f-4bba-8585-6519f1ad6c57",
      "metadata": {
        "id": "a46d2084-a86f-4bba-8585-6519f1ad6c57"
      },
      "outputs": [],
      "source": [
        "arr1 = np.array([0,324,645,65,6,6,0,0,0,234])"
      ]
    },
    {
      "cell_type": "code",
      "execution_count": null,
      "id": "b30f2d01-d1a6-411e-8273-c2af6d0e921e",
      "metadata": {
        "id": "b30f2d01-d1a6-411e-8273-c2af6d0e921e",
        "outputId": "65c862e2-da81-438d-f9f5-02472085b18d"
      },
      "outputs": [
        {
          "data": {
            "text/plain": [
              "6"
            ]
          },
          "execution_count": 13,
          "metadata": {},
          "output_type": "execute_result"
        }
      ],
      "source": [
        "np.count_nonzero(arr1)"
      ]
    },
    {
      "cell_type": "code",
      "execution_count": null,
      "id": "0f37b5c2-0148-4689-85f7-58e49c2bb16f",
      "metadata": {
        "id": "0f37b5c2-0148-4689-85f7-58e49c2bb16f",
        "outputId": "d21bc830-f7cc-414d-ea25-79f327206ce1"
      },
      "outputs": [
        {
          "data": {
            "text/plain": [
              "(array([1, 2, 3, 4, 5, 9]),)"
            ]
          },
          "execution_count": 14,
          "metadata": {},
          "output_type": "execute_result"
        }
      ],
      "source": [
        "np.where(arr1 > 0 )"
      ]
    },
    {
      "cell_type": "code",
      "execution_count": null,
      "id": "21fe0093-ee28-45dd-8dfc-55ff15fbba87",
      "metadata": {
        "id": "21fe0093-ee28-45dd-8dfc-55ff15fbba87",
        "outputId": "425db50e-f4c0-4b2d-a534-63022291b595"
      },
      "outputs": [
        {
          "data": {
            "text/plain": [
              "array([324, 645,  65,   6,   6, 234])"
            ]
          },
          "execution_count": 18,
          "metadata": {},
          "output_type": "execute_result"
        }
      ],
      "source": [
        "np.extract(arr1 >2,arr1)"
      ]
    },
    {
      "cell_type": "code",
      "execution_count": null,
      "id": "be4001b4-056c-4c54-a80b-7f1276631954",
      "metadata": {
        "id": "be4001b4-056c-4c54-a80b-7f1276631954"
      },
      "outputs": [],
      "source": [
        "#Numpy - Byte Swapping."
      ]
    },
    {
      "cell_type": "code",
      "execution_count": null,
      "id": "7f4975e8-a41d-44bb-8241-76aab29f78ba",
      "metadata": {
        "id": "7f4975e8-a41d-44bb-8241-76aab29f78ba",
        "outputId": "636b8b4d-57b5-4df6-e385-3c47ad47b2a6"
      },
      "outputs": [
        {
          "data": {
            "text/plain": [
              "array([  0, 324, 645,  65,   6,   6,   0,   0,   0, 234])"
            ]
          },
          "execution_count": 20,
          "metadata": {},
          "output_type": "execute_result"
        }
      ],
      "source": [
        "arr1"
      ]
    },
    {
      "cell_type": "code",
      "execution_count": null,
      "id": "22abbfac-871e-41b8-95e7-2ff27563f425",
      "metadata": {
        "id": "22abbfac-871e-41b8-95e7-2ff27563f425",
        "outputId": "97175292-1e93-4838-cb0a-16ed46c5b214"
      },
      "outputs": [
        {
          "data": {
            "text/plain": [
              "array([ 288230376151711744,  144115188075855872,  576460752303423488,\n",
              "        360287970189639680,  216172782113783808,  648518346341351424,\n",
              "        864691128455135232, 4035225266123964416])"
            ]
          },
          "execution_count": 24,
          "metadata": {},
          "output_type": "execute_result"
        }
      ],
      "source": [
        "arr.byteswap(True)"
      ]
    },
    {
      "cell_type": "code",
      "execution_count": null,
      "id": "a48c8cef-44e0-4e72-8869-dcd79385796d",
      "metadata": {
        "id": "a48c8cef-44e0-4e72-8869-dcd79385796d",
        "outputId": "627408dd-8193-4b2e-9c3d-0cd8333eafc4"
      },
      "outputs": [
        {
          "data": {
            "text/plain": [
              "array([ 288230376151711744,  144115188075855872,  576460752303423488,\n",
              "        360287970189639680,  216172782113783808,  648518346341351424,\n",
              "        864691128455135232, 4035225266123964416])"
            ]
          },
          "execution_count": 25,
          "metadata": {},
          "output_type": "execute_result"
        }
      ],
      "source": [
        "arr"
      ]
    },
    {
      "cell_type": "code",
      "execution_count": null,
      "id": "3a57f44d-b2ad-4a5f-b67a-81e0a152f543",
      "metadata": {
        "id": "3a57f44d-b2ad-4a5f-b67a-81e0a152f543",
        "outputId": "acf810ac-0fd3-48fe-9a3a-d930cfdf20cb"
      },
      "outputs": [
        {
          "data": {
            "text/plain": [
              "array([ 288230376151711744,  144115188075855872,  576460752303423488,\n",
              "        360287970189639680,  216172782113783808,  648518346341351424,\n",
              "        864691128455135232, 4035225266123964416])"
            ]
          },
          "execution_count": 26,
          "metadata": {},
          "output_type": "execute_result"
        }
      ],
      "source": [
        "arr"
      ]
    },
    {
      "cell_type": "code",
      "execution_count": null,
      "id": "8c64a552-c766-47af-bd7f-03c88cbe923b",
      "metadata": {
        "id": "8c64a552-c766-47af-bd7f-03c88cbe923b"
      },
      "outputs": [],
      "source": [
        "#Numpy - Copies &Views."
      ]
    },
    {
      "cell_type": "code",
      "execution_count": null,
      "id": "91428168-1507-43c5-93c5-dc00570bb8f8",
      "metadata": {
        "id": "91428168-1507-43c5-93c5-dc00570bb8f8",
        "outputId": "5facd466-1ddd-46a5-cd29-9344dfa2fa69"
      },
      "outputs": [
        {
          "data": {
            "text/plain": [
              "array([  0, 324, 645,  65,   6,   6,   0,   0,   0, 234])"
            ]
          },
          "execution_count": 30,
          "metadata": {},
          "output_type": "execute_result"
        }
      ],
      "source": [
        "arr1"
      ]
    },
    {
      "cell_type": "code",
      "execution_count": null,
      "id": "0b365382-adc0-4ab1-b923-95be0ec53fa6",
      "metadata": {
        "id": "0b365382-adc0-4ab1-b923-95be0ec53fa6"
      },
      "outputs": [],
      "source": [
        "a = np.copy(arr1)"
      ]
    },
    {
      "cell_type": "code",
      "execution_count": null,
      "id": "0de5d60a-4a48-41ef-8755-4ebcad1cc01b",
      "metadata": {
        "id": "0de5d60a-4a48-41ef-8755-4ebcad1cc01b"
      },
      "outputs": [],
      "source": [
        "b = arr1.view()"
      ]
    },
    {
      "cell_type": "code",
      "execution_count": null,
      "id": "c47a1131-9fa9-42de-8236-e7ecc0517e56",
      "metadata": {
        "id": "c47a1131-9fa9-42de-8236-e7ecc0517e56"
      },
      "outputs": [],
      "source": [
        "b = arr1"
      ]
    },
    {
      "cell_type": "code",
      "execution_count": null,
      "id": "0949d238-6935-4833-bc1b-479f231276ef",
      "metadata": {
        "id": "0949d238-6935-4833-bc1b-479f231276ef",
        "outputId": "d8c771e5-da6d-4fec-cf47-0bc671f5ed96"
      },
      "outputs": [
        {
          "data": {
            "text/plain": [
              "array([  0, 324, 645,  65,   6,   6,   0,   0,   0, 234])"
            ]
          },
          "execution_count": 35,
          "metadata": {},
          "output_type": "execute_result"
        }
      ],
      "source": [
        "b"
      ]
    },
    {
      "cell_type": "code",
      "execution_count": null,
      "id": "1d96b974-f101-4866-99be-59f9829222a4",
      "metadata": {
        "id": "1d96b974-f101-4866-99be-59f9829222a4"
      },
      "outputs": [],
      "source": [
        "b[0] = 234"
      ]
    },
    {
      "cell_type": "code",
      "execution_count": null,
      "id": "19f26f3a-cc3b-4417-9064-e7104223a25b",
      "metadata": {
        "id": "19f26f3a-cc3b-4417-9064-e7104223a25b",
        "outputId": "ef364872-82c5-47e4-e56a-59d81beda716"
      },
      "outputs": [
        {
          "data": {
            "text/plain": [
              "array([234, 324, 645,  65,   6,   6,   0,   0,   0, 234])"
            ]
          },
          "execution_count": 37,
          "metadata": {},
          "output_type": "execute_result"
        }
      ],
      "source": [
        "b"
      ]
    },
    {
      "cell_type": "code",
      "execution_count": null,
      "id": "b9a9856e-dbe6-4169-ac7e-3cf2d45705ac",
      "metadata": {
        "id": "b9a9856e-dbe6-4169-ac7e-3cf2d45705ac",
        "outputId": "49be5c63-2fb9-464c-f6c6-d70ab1288c5a"
      },
      "outputs": [
        {
          "data": {
            "text/plain": [
              "array([234, 324, 645,  65,   6,   6,   0,   0,   0, 234])"
            ]
          },
          "execution_count": 38,
          "metadata": {},
          "output_type": "execute_result"
        }
      ],
      "source": [
        "arr1"
      ]
    },
    {
      "cell_type": "code",
      "execution_count": null,
      "id": "674cfec2-70e7-426e-adbc-4353ac7c50a9",
      "metadata": {
        "id": "674cfec2-70e7-426e-adbc-4353ac7c50a9"
      },
      "outputs": [],
      "source": [
        "#Numpy - Matrix Library."
      ]
    },
    {
      "cell_type": "code",
      "execution_count": null,
      "id": "4ec6ae6f-3807-4f52-b8af-16bb82418863",
      "metadata": {
        "id": "4ec6ae6f-3807-4f52-b8af-16bb82418863"
      },
      "outputs": [],
      "source": [
        "import numpy.matlib as nm"
      ]
    },
    {
      "cell_type": "code",
      "execution_count": null,
      "id": "29bd602d-4478-40fe-84d3-282401756613",
      "metadata": {
        "id": "29bd602d-4478-40fe-84d3-282401756613",
        "outputId": "6cff21cd-5ed7-4e99-e8e4-15aa554d9c95"
      },
      "outputs": [
        {
          "data": {
            "text/plain": [
              "matrix([[0., 0., 0., 0., 0.]])"
            ]
          },
          "execution_count": 42,
          "metadata": {},
          "output_type": "execute_result"
        }
      ],
      "source": [
        "nm.zeros(5)"
      ]
    },
    {
      "cell_type": "code",
      "execution_count": null,
      "id": "ed3548c3-512d-4bd8-a37c-899b2fb54547",
      "metadata": {
        "id": "ed3548c3-512d-4bd8-a37c-899b2fb54547",
        "outputId": "583e5b6a-3dd0-417a-d586-ca639231942e"
      },
      "outputs": [
        {
          "data": {
            "text/plain": [
              "matrix([[1., 1., 1., 1.],\n",
              "        [1., 1., 1., 1.],\n",
              "        [1., 1., 1., 1.]])"
            ]
          },
          "execution_count": 43,
          "metadata": {},
          "output_type": "execute_result"
        }
      ],
      "source": [
        "nm.ones((3,4))"
      ]
    },
    {
      "cell_type": "code",
      "execution_count": null,
      "id": "ea58337c-59df-44c6-9682-156026528ad6",
      "metadata": {
        "id": "ea58337c-59df-44c6-9682-156026528ad6",
        "outputId": "9e2710d7-37cf-49c7-dc88-ca683f2950bc"
      },
      "outputs": [
        {
          "data": {
            "text/plain": [
              "matrix([[1., 0., 0., 0.],\n",
              "        [0., 1., 0., 0.],\n",
              "        [0., 0., 1., 0.],\n",
              "        [0., 0., 0., 1.]])"
            ]
          },
          "execution_count": 44,
          "metadata": {},
          "output_type": "execute_result"
        }
      ],
      "source": [
        "nm.eye(4)"
      ]
    },
    {
      "cell_type": "code",
      "execution_count": null,
      "id": "fc4e8999-e589-4263-b884-0f71a7db9d1b",
      "metadata": {
        "id": "fc4e8999-e589-4263-b884-0f71a7db9d1b"
      },
      "outputs": [],
      "source": [
        "#Numpy - Linear Algebra"
      ]
    },
    {
      "cell_type": "code",
      "execution_count": null,
      "id": "8dd6964c-3d2d-4d60-9f87-e7d8bb01f493",
      "metadata": {
        "id": "8dd6964c-3d2d-4d60-9f87-e7d8bb01f493"
      },
      "outputs": [],
      "source": [
        "arr1 = np.random.randint([[2,3] , [4,5]])"
      ]
    },
    {
      "cell_type": "code",
      "execution_count": null,
      "id": "11a7e188-b6c6-4283-af8e-ba0ebc0d178e",
      "metadata": {
        "id": "11a7e188-b6c6-4283-af8e-ba0ebc0d178e"
      },
      "outputs": [],
      "source": [
        "arr2 = np.random.randint([[5,3] , [2,5]])\n"
      ]
    },
    {
      "cell_type": "code",
      "execution_count": null,
      "id": "d35b9771-953f-4175-b747-bc5f200f7db2",
      "metadata": {
        "id": "d35b9771-953f-4175-b747-bc5f200f7db2",
        "outputId": "0a779030-0416-488c-d034-8bd545360271"
      },
      "outputs": [
        {
          "data": {
            "text/plain": [
              "array([[0, 1],\n",
              "       [1, 4]])"
            ]
          },
          "execution_count": 50,
          "metadata": {},
          "output_type": "execute_result"
        }
      ],
      "source": [
        "arr1"
      ]
    },
    {
      "cell_type": "code",
      "execution_count": null,
      "id": "10cf0058-6e68-4f3d-b4a0-0e0e353ad7f0",
      "metadata": {
        "id": "10cf0058-6e68-4f3d-b4a0-0e0e353ad7f0",
        "outputId": "880e8f49-1cd0-4a4a-8cf3-8b6ae09f7f78"
      },
      "outputs": [
        {
          "data": {
            "text/plain": [
              "array([[2, 2],\n",
              "       [1, 2]])"
            ]
          },
          "execution_count": 51,
          "metadata": {},
          "output_type": "execute_result"
        }
      ],
      "source": [
        "arr2"
      ]
    },
    {
      "cell_type": "code",
      "execution_count": null,
      "id": "57cc0881-44a0-46e2-816a-b4d04afc02d5",
      "metadata": {
        "id": "57cc0881-44a0-46e2-816a-b4d04afc02d5",
        "outputId": "31f488cb-4472-434e-8aef-3c5543afc07a"
      },
      "outputs": [
        {
          "data": {
            "text/plain": [
              "array([[ 1,  2],\n",
              "       [ 6, 10]])"
            ]
          },
          "execution_count": 52,
          "metadata": {},
          "output_type": "execute_result"
        }
      ],
      "source": [
        "np.dot(arr1,arr2)"
      ]
    },
    {
      "cell_type": "code",
      "execution_count": null,
      "id": "354ee17a-346c-429b-b4c0-0ab02733e846",
      "metadata": {
        "id": "354ee17a-346c-429b-b4c0-0ab02733e846",
        "outputId": "6a7d1e91-6750-46e2-905a-77d345835802"
      },
      "outputs": [
        {
          "data": {
            "text/plain": [
              "array([[ 1,  2],\n",
              "       [ 6, 10]])"
            ]
          },
          "execution_count": 53,
          "metadata": {},
          "output_type": "execute_result"
        }
      ],
      "source": [
        "arr1@arr2"
      ]
    },
    {
      "cell_type": "code",
      "execution_count": null,
      "id": "a371813f-babe-4531-9039-20a8d230d49e",
      "metadata": {
        "id": "a371813f-babe-4531-9039-20a8d230d49e"
      },
      "outputs": [],
      "source": []
    }
  ],
  "metadata": {
    "kernelspec": {
      "display_name": "Python 3 (ipykernel)",
      "language": "python",
      "name": "python3"
    },
    "language_info": {
      "codemirror_mode": {
        "name": "ipython",
        "version": 3
      },
      "file_extension": ".py",
      "mimetype": "text/x-python",
      "name": "python",
      "nbconvert_exporter": "python",
      "pygments_lexer": "ipython3",
      "version": "3.10.8"
    },
    "colab": {
      "provenance": [],
      "include_colab_link": true
    }
  },
  "nbformat": 4,
  "nbformat_minor": 5
}