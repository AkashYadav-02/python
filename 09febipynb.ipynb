{
  "nbformat": 4,
  "nbformat_minor": 0,
  "metadata": {
    "colab": {
      "provenance": [],
      "authorship_tag": "ABX9TyNBXzH/bFqNsnJQ7aHGFRBx",
      "include_colab_link": true
    },
    "kernelspec": {
      "name": "python3",
      "display_name": "Python 3"
    },
    "language_info": {
      "name": "python"
    }
  },
  "cells": [
    {
      "cell_type": "markdown",
      "metadata": {
        "id": "view-in-github",
        "colab_type": "text"
      },
      "source": [
        "<a href=\"https://colab.research.google.com/github/AkashYadav-02/python/blob/main/09febipynb.ipynb\" target=\"_parent\"><img src=\"https://colab.research.google.com/assets/colab-badge.svg\" alt=\"Open In Colab\"/></a>"
      ]
    },
    {
      "cell_type": "code",
      "execution_count": null,
      "metadata": {
        "id": "hAZDlB7OegPV"
      },
      "outputs": [],
      "source": []
    },
    {
      "cell_type": "markdown",
      "source": [
        "Q1, Create a vehicle class with an init method having instance variables as name_of_vehicle, max_speed\n",
        "and average_of_vehicle."
      ],
      "metadata": {
        "id": "9upjmwGvensJ"
      }
    },
    {
      "cell_type": "code",
      "source": [
        "class Vehicle:\n",
        "    def __init__(self, name_of_vehicle, max_speed, average_of_vehicle):\n",
        "        self.name_of_vehicle = name_of_vehicle\n",
        "        self.max_speed = max_speed\n",
        "        self.average_of_vehicle = average_of_vehicle"
      ],
      "metadata": {
        "id": "QWXAaDvhep6I"
      },
      "execution_count": 1,
      "outputs": []
    },
    {
      "cell_type": "markdown",
      "source": [
        "Q2. Create a child class car from the vehicle class created in Que 1, which will inherit the vehicle class.\n",
        "Create a method named seating_capacity which takes capacity as an argument and returns the name of\n",
        "the vehicle and its seating capacity."
      ],
      "metadata": {
        "id": "tvXvyQm4ewkQ"
      }
    },
    {
      "cell_type": "code",
      "source": [
        "class Vehicle:\n",
        "    def __init__(self, name_of_vehicle, max_speed, average_of_vehicle):\n",
        "        self.name_of_vehicle = name_of_vehicle\n",
        "        self.max_speed = max_speed\n",
        "        self.average_of_vehicle = average_of_vehicle\n",
        "\n",
        "class Car(Vehicle):\n",
        "    def seating_capacity(self, capacity):\n",
        "        return f\"The vehicle name is {self.name_of_vehicle} and seating capacity is {capacity}\"\n",
        "\n",
        "car = Car(\"Sedan\", 200, 20)\n",
        "print(car.seating_capacity(4))"
      ],
      "metadata": {
        "colab": {
          "base_uri": "https://localhost:8080/"
        },
        "id": "Pf-LctE5exBY",
        "outputId": "42949a36-68de-44aa-f01f-cda30e44ddcf"
      },
      "execution_count": 4,
      "outputs": [
        {
          "output_type": "stream",
          "name": "stdout",
          "text": [
            "The vehicle name is Sedan and seating capacity is 4\n"
          ]
        }
      ]
    },
    {
      "cell_type": "markdown",
      "source": [
        "Q3. What is multiple inheritance? Write a python code to demonstrate multiple inheritance."
      ],
      "metadata": {
        "id": "FHC1T15ZfU6P"
      }
    },
    {
      "cell_type": "code",
      "source": [
        "class Vehicle:\n",
        "    def __init__(self, name, wheels):\n",
        "        self.name = name\n",
        "        self.wheels = wheels\n",
        "        \n",
        "    def display(self):\n",
        "        return f\"Vehicle Name: {self.name}, Number of Wheels: {self.wheels}\"\n",
        "        \n",
        "class Engine:\n",
        "    def __init__(self, power, cc):\n",
        "        self.power = power\n",
        "        self.cc = cc\n",
        "        \n",
        "    def display(self):\n",
        "        return f\"Engine Power: {self.power} cc, Engine Capacity: {self.cc}\"\n",
        "        \n",
        "class Car(Vehicle, Engine):\n",
        "    def __init__(self, name, wheels, power, cc):\n",
        "        Vehicle.__init__(self, name, wheels)\n",
        "        Engine.__init__(self, power, cc)\n",
        "        \n",
        "    def display(self):\n",
        "        return f\"{Vehicle.display(self)}, {Engine.display(self)}\"\n",
        "        \n",
        "car = Car(\"Sedan\", 4, 100, 1500)\n",
        "print(car.display())"
      ],
      "metadata": {
        "colab": {
          "base_uri": "https://localhost:8080/"
        },
        "id": "kuH0YgOFfbM4",
        "outputId": "ef79905b-3db1-40fd-978a-775a94fe2eb2"
      },
      "execution_count": 5,
      "outputs": [
        {
          "output_type": "stream",
          "name": "stdout",
          "text": [
            "Vehicle Name: Sedan, Number of Wheels: 4, Engine Power: 100 cc, Engine Capacity: 1500\n"
          ]
        }
      ]
    },
    {
      "cell_type": "markdown",
      "source": [
        "Q4. What are getter and setter in python? Create a class and create a getter and a setter method in this\n",
        "class.\n"
      ],
      "metadata": {
        "id": "PjMWzsMEfkdg"
      }
    },
    {
      "cell_type": "code",
      "source": [
        "class Person:\n",
        "    def __init__(self, name, age):\n",
        "        self.__name = name\n",
        "        self.__age = age\n",
        "\n",
        "    def get_name(self):\n",
        "        return self.__name\n",
        "\n",
        "    def set_name(self, name):\n",
        "        self.__name = name\n",
        "\n",
        "    def get_age(self):\n",
        "        return self.__age\n",
        "\n",
        "    def set_age(self, age):\n",
        "        if age >= 0 and age <= 120:\n",
        "            self.__age = age\n",
        "        else:\n",
        "            raise ValueError(\"Age must be between 0 and 120.\")\n",
        "\n",
        "person = Person(\"John\", 30)\n",
        "print(person.get_name()) \n",
        "person.set_name(\"Jane\")\n",
        "print(person.get_name()) \n",
        "print(person.get_age()) \n",
        "person.set_age(35)\n",
        "print(person.get_age()) "
      ],
      "metadata": {
        "colab": {
          "base_uri": "https://localhost:8080/"
        },
        "id": "O-fP9O2gfoF_",
        "outputId": "5ec45f7f-f239-460b-f2b8-1484ea9a0441"
      },
      "execution_count": 6,
      "outputs": [
        {
          "output_type": "stream",
          "name": "stdout",
          "text": [
            "John\n",
            "Jane\n",
            "30\n",
            "35\n"
          ]
        }
      ]
    },
    {
      "cell_type": "markdown",
      "source": [
        "Q5.What is method overriding in python? Write a python code to demonstrate method overriding."
      ],
      "metadata": {
        "id": "WPillxWcfycI"
      }
    },
    {
      "cell_type": "code",
      "source": [
        "class Animal:\n",
        "    def make_sound(self):\n",
        "        print(\"The animal makes a sound\")\n",
        "\n",
        "class Dog(Animal):\n",
        "    def make_sound(self):\n",
        "        print(\"The dog barks\")\n",
        "\n",
        "dog = Dog()\n",
        "dog.make_sound()"
      ],
      "metadata": {
        "id": "EQx0UwrrgAeX",
        "outputId": "5d0e34a9-cc8b-45a8-c3e4-701c671bfd31",
        "colab": {
          "base_uri": "https://localhost:8080/"
        }
      },
      "execution_count": 7,
      "outputs": [
        {
          "output_type": "stream",
          "name": "stdout",
          "text": [
            "The dog barks\n"
          ]
        }
      ]
    }
  ]
}